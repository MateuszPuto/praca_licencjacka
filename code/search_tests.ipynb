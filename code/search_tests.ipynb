{
 "cells": [
  {
   "cell_type": "code",
   "execution_count": 1,
   "metadata": {},
   "outputs": [
    {
     "name": "stderr",
     "output_type": "stream",
     "text": [
      "/home/mputo/.conda/envs/search/lib/python3.9/site-packages/tqdm/auto.py:21: TqdmWarning: IProgress not found. Please update jupyter and ipywidgets. See https://ipywidgets.readthedocs.io/en/stable/user_install.html\n",
      "  from .autonotebook import tqdm as notebook_tqdm\n"
     ]
    }
   ],
   "source": [
    "from sentence_transformers import SentenceTransformer\n",
    "from sentence_transformers.cross_encoder import CrossEncoder\n",
    "import helper_funcs\n",
    "import torch\n",
    "import numpy as np\n",
    "import faiss\n",
    "import random"
   ]
  },
  {
   "cell_type": "code",
   "execution_count": null,
   "metadata": {},
   "outputs": [],
   "source": [
    "encoder = SentenceTransformer('all-MiniLM-L6-v2', device='cuda')\n",
    "cross_encoder = CrossEncoder('cross-encoder/ms-marco-MiniLM-L-6-v2')\n",
    "#cross_encoder = CrossEncoder('cross-encoder/stsb-distilroberta-base')"
   ]
  },
  {
   "cell_type": "code",
   "execution_count": null,
   "metadata": {},
   "outputs": [
    {
     "name": "stdout",
     "output_type": "stream",
     "text": [
      "0\n"
     ]
    }
   ],
   "source": [
    "d = 384\n",
    "description = \"Flat\"\n",
    "#description = \"IVF1024(PQ16x4),PQ16\"\n",
    "# description = \"HNSW32_SQ8\"\n",
    "# description = \"HNSW32_PQ4\"\n",
    "# description = \"PCA64,IVF32(PQ2x4),Flat\"\n",
    "# description = \"OPQ16,PCA64,IVF32(PQ2x4),Flat\"\n",
    "# description = \"IVF64(PQ4x6),Flat\"\n",
    "# description = \"IVF64(SQ8),Flat\"\n",
    "# description = \"IVF64(PQ6x6),Flat\"\n",
    "\n",
    "index = helper_funcs.create_index(d, description, gpu=True)\n",
    "\n",
    "print(index.ntotal)"
   ]
  },
  {
   "cell_type": "code",
   "execution_count": null,
   "metadata": {},
   "outputs": [],
   "source": [
    "files = []\n",
    "for i in range(1, 10):\n",
    "    f = torch.load(f'../msmarco-vec/msmarco-vectors-{i}.pt')\n",
    "    files.append(f)\n",
    "\n",
    "xb = np.concatenate(files)"
   ]
  },
  {
   "cell_type": "code",
   "execution_count": null,
   "metadata": {},
   "outputs": [
    {
     "name": "stdout",
     "output_type": "stream",
     "text": [
      "(1000000, 384)\n"
     ]
    }
   ],
   "source": [
    "print(xb.shape)"
   ]
  },
  {
   "cell_type": "code",
   "execution_count": null,
   "metadata": {},
   "outputs": [],
   "source": [
    "def populate_index(xb, index):\n",
    "    faiss.normalize_L2(xb)\n",
    "\n",
    "    index.train(xb)\n",
    "    index.add(xb)"
   ]
  },
  {
   "cell_type": "code",
   "execution_count": null,
   "metadata": {},
   "outputs": [
    {
     "name": "stdout",
     "output_type": "stream",
     "text": [
      "1000000\n"
     ]
    }
   ],
   "source": [
    "populate_index(xb, index)\n",
    "\n",
    "print(index.ntotal)"
   ]
  },
  {
   "cell_type": "code",
   "execution_count": null,
   "metadata": {},
   "outputs": [],
   "source": [
    "phase = \"dev.small\"\n",
    "\n",
    "collection = helper_funcs.tsv_to_df(\"collectionandqueries/collection\", col_name=[\"id\", \"paragraph\"], index_col=\"id\")\n",
    "queries = helper_funcs.tsv_to_df(f\"collectionandqueries/queries.{phase}\", col_name=[\"query number\", \"query text\"], index_col=\"query number\")\n",
    "qrels = helper_funcs.tsv_to_df(f\"collectionandqueries/qrels.{phase}\", col_name=[\"query id\", \"del.\", \"document id\", \"del.2\"], index_col=\"query id\").drop(labels=[\"del.\", \"del.2\"], axis=1)"
   ]
  },
  {
   "cell_type": "code",
   "execution_count": null,
   "metadata": {},
   "outputs": [
    {
     "name": "stdout",
     "output_type": "stream",
     "text": [
      "2913\n",
      "627\n",
      "4094\n",
      "5153\n",
      "3949\n",
      "2712\n",
      "4845\n",
      "5361\n",
      "2605\n",
      "5249\n"
     ]
    }
   ],
   "source": [
    "seeds = ['e5uyHzt3gc', 'bxL9fUAPzw', 'SF1jpDpjd5', '3WoYWkOWhY', '3bHYRrzvIa', 'DpImBXEsfL', '43dsJs4PP6', 'RbNwkeOSMS', 'qY7pzPrsnX', 'A9NJJ1J9cC']\n",
    "\n",
    "for s in seeds:\n",
    "    random.seed(s)\n",
    "    print(random.randint(0, 6980))"
   ]
  },
  {
   "cell_type": "code",
   "execution_count": null,
   "metadata": {},
   "outputs": [
    {
     "ename": "IndexError",
     "evalue": "index 2913 is out of bounds for axis 0 with size 1",
     "output_type": "error",
     "traceback": [
      "\u001b[0;31m---------------------------------------------------------------------------\u001b[0m",
      "\u001b[0;31mIndexError\u001b[0m                                Traceback (most recent call last)",
      "Cell \u001b[0;32mIn[18], line 7\u001b[0m\n\u001b[1;32m      4\u001b[0m random\u001b[39m.\u001b[39mseed(s)\n\u001b[1;32m      6\u001b[0m queries\u001b[39m.\u001b[39mhead()\n\u001b[0;32m----> 7\u001b[0m query, document \u001b[39m=\u001b[39m helper_funcs\u001b[39m.\u001b[39;49mget_query_document_pair(random\u001b[39m.\u001b[39;49mrandint(\u001b[39m0\u001b[39;49m, \u001b[39m6980\u001b[39;49m), collection, queries, qrels)\n\u001b[1;32m     10\u001b[0m query_val \u001b[39m=\u001b[39m query\u001b[39m.\u001b[39miloc[\u001b[39m0\u001b[39m][\u001b[39m\"\u001b[39m\u001b[39mquery text\u001b[39m\u001b[39m\"\u001b[39m]\n\u001b[1;32m     11\u001b[0m document_val \u001b[39m=\u001b[39m document\u001b[39m.\u001b[39miloc[\u001b[39m0\u001b[39m][\u001b[39m\"\u001b[39m\u001b[39mparagraph\u001b[39m\u001b[39m\"\u001b[39m]\n",
      "File \u001b[0;32m~/praca-licencjacka/helper_funcs.py:72\u001b[0m, in \u001b[0;36mget_query_document_pair\u001b[0;34m(query_id, collection, queries, qrels)\u001b[0m\n\u001b[1;32m     71\u001b[0m \u001b[39mdef\u001b[39;00m \u001b[39mget_query_document_pair\u001b[39m(query_id, collection, queries, qrels):\n\u001b[0;32m---> 72\u001b[0m         query \u001b[39m=\u001b[39m queries\u001b[39m.\u001b[39;49miloc[:, query_id]\u001b[39m.\u001b[39mcompute()\n\u001b[1;32m     73\u001b[0m         rel \u001b[39m=\u001b[39m qrels\u001b[39m.\u001b[39mloc[\u001b[39mint\u001b[39m(query\u001b[39m.\u001b[39mindex\u001b[39m.\u001b[39mto_numpy()[\u001b[39m0\u001b[39m]), \u001b[39m\"\u001b[39m\u001b[39mdocument id\u001b[39m\u001b[39m\"\u001b[39m]\u001b[39m.\u001b[39mcompute()\u001b[39m.\u001b[39miloc[\u001b[39m0\u001b[39m]\n\u001b[1;32m     74\u001b[0m         document \u001b[39m=\u001b[39m collection\u001b[39m.\u001b[39mloc[rel]\u001b[39m.\u001b[39mcompute()\n",
      "File \u001b[0;32m~/.conda/envs/search/lib/python3.9/site-packages/dask/dataframe/indexing.py:71\u001b[0m, in \u001b[0;36m_iLocIndexer.__getitem__\u001b[0;34m(self, key)\u001b[0m\n\u001b[1;32m     68\u001b[0m     \u001b[39mreturn\u001b[39;00m \u001b[39mself\u001b[39m\u001b[39m.\u001b[39m_iloc(iindexer, cindexer)\n\u001b[1;32m     69\u001b[0m \u001b[39melse\u001b[39;00m:\n\u001b[1;32m     70\u001b[0m     \u001b[39m# otherwise dispatch to dask.dataframe.core.DataFrame.__getitem__\u001b[39;00m\n\u001b[0;32m---> 71\u001b[0m     col_names \u001b[39m=\u001b[39m \u001b[39mself\u001b[39;49m\u001b[39m.\u001b[39;49mobj\u001b[39m.\u001b[39;49mcolumns[cindexer]\n\u001b[1;32m     72\u001b[0m     \u001b[39mreturn\u001b[39;00m \u001b[39mself\u001b[39m\u001b[39m.\u001b[39mobj\u001b[39m.\u001b[39m\u001b[39m__getitem__\u001b[39m(col_names)\n",
      "File \u001b[0;32m~/.conda/envs/search/lib/python3.9/site-packages/pandas/core/indexes/base.py:5320\u001b[0m, in \u001b[0;36mIndex.__getitem__\u001b[0;34m(self, key)\u001b[0m\n\u001b[1;32m   5317\u001b[0m \u001b[39mif\u001b[39;00m is_integer(key) \u001b[39mor\u001b[39;00m is_float(key):\n\u001b[1;32m   5318\u001b[0m     \u001b[39m# GH#44051 exclude bool, which would return a 2d ndarray\u001b[39;00m\n\u001b[1;32m   5319\u001b[0m     key \u001b[39m=\u001b[39m com\u001b[39m.\u001b[39mcast_scalar_indexer(key, warn_float\u001b[39m=\u001b[39m\u001b[39mTrue\u001b[39;00m)\n\u001b[0;32m-> 5320\u001b[0m     \u001b[39mreturn\u001b[39;00m getitem(key)\n\u001b[1;32m   5322\u001b[0m \u001b[39mif\u001b[39;00m \u001b[39misinstance\u001b[39m(key, \u001b[39mslice\u001b[39m):\n\u001b[1;32m   5323\u001b[0m     \u001b[39m# This case is separated from the conditional above to avoid\u001b[39;00m\n\u001b[1;32m   5324\u001b[0m     \u001b[39m# pessimization com.is_bool_indexer and ndim checks.\u001b[39;00m\n\u001b[1;32m   5325\u001b[0m     result \u001b[39m=\u001b[39m getitem(key)\n",
      "\u001b[0;31mIndexError\u001b[0m: index 2913 is out of bounds for axis 0 with size 1"
     ]
    }
   ],
   "source": [
    "keys = [342115, 1069981, 671692, 987237, 927553, 68095, 447551, 992840, 272605, 989894]\n",
    "\n",
    "\n",
    "for key in keys:\n",
    "    query, document = helper_funcs.get_query_document_pair(key, collection, queries, qrels)\n",
    "\n",
    "\n",
    "    query_val = query.iloc[0][\"query text\"]\n",
    "    document_val = document.iloc[0][\"paragraph\"]\n",
    "\n",
    "    print(\"Query: \", query_val)\n",
    "    print(\"Document: \", document_val)\n",
    "\n",
    "    reranked_results = helper_funcs.search_and_rerank(query_val, 10, encoder=encoder, cross_encoder=cross_encoder, index=index, collection=collection)\n",
    "\n",
    "    answer = helper_funcs.generate_answer(query_val, reranked_results)\n",
    "\n",
    "    print(answer)\n",
    "    print('-------HITS--------')\n",
    "    print(reranked_results)\n",
    "    print('-------------------')"
   ]
  }
 ],
 "metadata": {
  "kernelspec": {
   "display_name": "search",
   "language": "python",
   "name": "python3"
  },
  "language_info": {
   "codemirror_mode": {
    "name": "ipython",
    "version": 3
   },
   "file_extension": ".py",
   "mimetype": "text/x-python",
   "name": "python",
   "nbconvert_exporter": "python",
   "pygments_lexer": "ipython3",
   "version": "3.9.16 (main, Mar  8 2023, 14:00:05) \n[GCC 11.2.0]"
  },
  "orig_nbformat": 4,
  "vscode": {
   "interpreter": {
    "hash": "fe094f1b9b9bc75754c2d037302a087284fa1da9906b39b43cf12951366e0342"
   }
  }
 },
 "nbformat": 4,
 "nbformat_minor": 2
}
