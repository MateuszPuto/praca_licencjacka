{
 "cells": [
  {
   "cell_type": "code",
   "execution_count": 1,
   "metadata": {},
   "outputs": [
    {
     "name": "stderr",
     "output_type": "stream",
     "text": [
      "/home/mputo/.conda/envs/search/lib/python3.9/site-packages/tqdm/auto.py:21: TqdmWarning: IProgress not found. Please update jupyter and ipywidgets. See https://ipywidgets.readthedocs.io/en/stable/user_install.html\n",
      "  from .autonotebook import tqdm as notebook_tqdm\n"
     ]
    }
   ],
   "source": [
    "from sentence_transformers import SentenceTransformer\n",
    "from sentence_transformers.cross_encoder import CrossEncoder\n",
    "from transformers import T5Tokenizer, T5ForConditionalGeneration\n",
    "import helper_funcs\n",
    "import torch"
   ]
  },
  {
   "cell_type": "code",
   "execution_count": 2,
   "metadata": {},
   "outputs": [],
   "source": [
    "query = \"Input your query here\""
   ]
  },
  {
   "cell_type": "code",
   "execution_count": 3,
   "metadata": {},
   "outputs": [],
   "source": [
    "model_name = \"doc2query/msmarco-t5-small-v1\"\n",
    "tokenizer = T5Tokenizer.from_pretrained(model_name)\n",
    "question_generator = T5ForConditionalGeneration.from_pretrained(model_name)"
   ]
  },
  {
   "cell_type": "code",
   "execution_count": 4,
   "metadata": {},
   "outputs": [],
   "source": [
    "encoder = SentenceTransformer('all-MiniLM-L6-v2', device='cuda')\n",
    "cross_encoder = CrossEncoder('cross-encoder/ms-marco-MiniLM-L-6-v2')"
   ]
  },
  {
   "cell_type": "code",
   "execution_count": 5,
   "metadata": {},
   "outputs": [
    {
     "name": "stdout",
     "output_type": "stream",
     "text": [
      "0\n"
     ]
    }
   ],
   "source": [
    "d = 384\n",
    "description = \"Flat\"\n",
    "\n",
    "index = helper_funcs.create_index(d, description, gpu=True)\n",
    "\n",
    "print(index.ntotal)"
   ]
  },
  {
   "cell_type": "code",
   "execution_count": 6,
   "metadata": {},
   "outputs": [],
   "source": [
    "xb = torch.load('../msmarco-vec/msmarco-vectors-1.pt')\n",
    "\n",
    "print(xb.shape)"
   ]
  },
  {
   "cell_type": "code",
   "execution_count": null,
   "metadata": {},
   "outputs": [
    {
     "name": "stdout",
     "output_type": "stream",
     "text": [
      "1000000\n"
     ]
    }
   ],
   "source": [
    "helper_funcs.populate_index(xb, index, to_cpu=True)\n",
    "\n",
    "print(index.ntotal)"
   ]
  },
  {
   "cell_type": "code",
   "execution_count": null,
   "metadata": {},
   "outputs": [],
   "source": [
    "collection = helper_funcs.tsv_to_df(\"../collectionandqueries/collection\", col_name=[\"id\", \"paragraph\"], index_col=\"id\")"
   ]
  },
  {
   "cell_type": "code",
   "execution_count": null,
   "metadata": {},
   "outputs": [],
   "source": [
    "r = helper_funcs.create_redis()\n",
    "\n",
    "helper_funcs.save_collection(r, collection, index.ntotal)"
   ]
  },
  {
   "cell_type": "code",
   "execution_count": null,
   "metadata": {},
   "outputs": [
    {
     "data": {
      "text/plain": [
       "[((1,\n",
       "   'The Manhattan Project and its atomic bomb helped bring an end to World War II. Its legacy of peaceful uses of atomic energy continues to have an impact on history and science.'),\n",
       "  4.1254525),\n",
       " ((0,\n",
       "   'The presence of communication amid scientific minds was equally important to the success of the Manhattan Project as scientific intellect was. The only cloud hanging over the impressive achievement of the atomic researchers and engineers is what their success truly meant; hundreds of thousands of innocent lives obliterated.'),\n",
       "  3.8581057),\n",
       " ((2,\n",
       "   'Essay on The Manhattan Project - The Manhattan Project The Manhattan Project was to see if making an atomic bomb possible. The success of this project would forever change the world forever making it known that something this powerful can be manmade.'),\n",
       "  3.2710392),\n",
       " ((7,\n",
       "   'Manhattan Project. The Manhattan Project was a research and development undertaking during World War II that produced the first nuclear weapons. It was led by the United States with the support of the United Kingdom and Canada. From 1942 to 1946, the project was under the direction of Major General Leslie Groves of the U.S. Army Corps of Engineers. Nuclear physicist Robert Oppenheimer was the director of the Los Alamos Laboratory that designed the actual bombs. The Army component of the project was designated the'),\n",
       "  1.7574501),\n",
       " ((3,\n",
       "   'The Manhattan Project was the name for a project conducted during World War II, to develop the first atomic bomb. It refers specifically to the period of the project from 194 â\\x80¦ 2-1946 under the control of the U.S. Army Corps of Engineers, under the administration of General Leslie R. Groves.'),\n",
       "  1.0350964),\n",
       " ((749027,\n",
       "   'Inspired by scientists who feared atomic bomb development by Germany, the United States began studying the atomic bomb when World War II began in 1939. In August 1942 the U.S. launched a development program called the Manhattan Project.'),\n",
       "  -0.7804665),\n",
       " ((749029,\n",
       "   'Next. Inspired by scientists who feared atomic bomb development by Germany, the United States began studying the atomic bomb when World War II began in 1939. In August 1942 the U.S. launched a development program called the Manhattan Project.'),\n",
       "  -1.1856941),\n",
       " ((8,\n",
       "   'In June 1942, the United States Army Corps of Engineersbegan the Manhattan Project- The secret name for the 2 atomic bombs.'),\n",
       "  -1.4733196),\n",
       " ((6,\n",
       "   'Nor will it attempt to substitute for the extraordinarily rich literature on the atomic bombs and the end of World War II. This collection does not attempt to document the origins and development of the Manhattan Project.'),\n",
       "  -2.9964163),\n",
       " ((4,\n",
       "   'versions of each volume as well as complementary websites. The first websiteâ\\x80\\x93The Manhattan Project: An Interactive Historyâ\\x80\\x93is available on the Office of History and Heritage Resources website, http://www.cfo. doe.gov/me70/history. The Office of History and Heritage Resources and the National Nuclear Security'),\n",
       "  -5.106743)]"
      ]
     },
     "execution_count": 15,
     "metadata": {},
     "output_type": "execute_result"
    }
   ],
   "source": [
    "reranked_results = helper_funcs.search_and_rerank_redis(query, 10, encoder=encoder, cross_encoder=cross_encoder, index=index, collection=collection)\n",
    "\n",
    "reranked_results"
   ]
  },
  {
   "cell_type": "code",
   "execution_count": null,
   "metadata": {},
   "outputs": [
    {
     "data": {
      "text/plain": [
       "{'score': 0.18403230607509613,\n",
       " 'start': 453,\n",
       " 'end': 504,\n",
       " 'answer': 'hundreds of thousands of innocent lives obliterated'}"
      ]
     },
     "execution_count": 16,
     "metadata": {},
     "output_type": "execute_result"
    }
   ],
   "source": [
    "answer = helper_funcs.generate_answer(query, reranked_results)\n",
    "\n",
    "answer"
   ]
  },
  {
   "cell_type": "code",
   "execution_count": null,
   "metadata": {},
   "outputs": [],
   "source": [
    "sample_queries = helper_funcs.generate_queries(query, question_generator, tokenizer)\n",
    "\n",
    "sample_queries"
   ]
  }
 ],
 "metadata": {
  "kernelspec": {
   "display_name": "search",
   "language": "python",
   "name": "python3"
  },
  "language_info": {
   "codemirror_mode": {
    "name": "ipython",
    "version": 3
   },
   "file_extension": ".py",
   "mimetype": "text/x-python",
   "name": "python",
   "nbconvert_exporter": "python",
   "pygments_lexer": "ipython3",
   "version": "3.9.16 (main, Mar  8 2023, 14:00:05) \n[GCC 11.2.0]"
  },
  "orig_nbformat": 4,
  "vscode": {
   "interpreter": {
    "hash": "fe094f1b9b9bc75754c2d037302a087284fa1da9906b39b43cf12951366e0342"
   }
  }
 },
 "nbformat": 4,
 "nbformat_minor": 2
}
