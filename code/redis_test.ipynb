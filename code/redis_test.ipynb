{
 "cells": [
  {
   "cell_type": "code",
   "execution_count": 1,
   "metadata": {},
   "outputs": [
    {
     "name": "stderr",
     "output_type": "stream",
     "text": [
      "/home/mputo/.local/lib/python3.11/site-packages/tqdm/auto.py:22: TqdmWarning: IProgress not found. Please update jupyter and ipywidgets. See https://ipywidgets.readthedocs.io/en/stable/user_install.html\n",
      "  from .autonotebook import tqdm as notebook_tqdm\n"
     ]
    }
   ],
   "source": [
    "import torch\n",
    "import helper_funcs\n",
    "from sentence_transformers import SentenceTransformer\n",
    "from sentence_transformers.cross_encoder import CrossEncoder\n",
    "\n",
    "encoder = SentenceTransformer('all-MiniLM-L6-v2', device='cuda')\n",
    "cross_encoder = CrossEncoder('cross-encoder/ms-marco-MiniLM-L-6-v2')"
   ]
  },
  {
   "cell_type": "code",
   "execution_count": 2,
   "metadata": {},
   "outputs": [],
   "source": [
    "collection = helper_funcs.tsv_to_df(\"../collectionandqueries/collection\", col_name=[\"id\", \"paragraph\"], index_col=\"id\")"
   ]
  },
  {
   "cell_type": "code",
   "execution_count": 3,
   "metadata": {},
   "outputs": [],
   "source": [
    "queries = helper_funcs.tsv_to_df(\"../collectionandqueries/queries.train\", col_name=[\"query number\", \"query text\"], index_col=\"query number\")"
   ]
  },
  {
   "cell_type": "code",
   "execution_count": 4,
   "metadata": {},
   "outputs": [],
   "source": [
    "r = helper_funcs.create_redis()\n",
    "\n",
    "helper_funcs.save_collection(r, collection, 1000)"
   ]
  },
  {
   "cell_type": "code",
   "execution_count": 5,
   "metadata": {},
   "outputs": [],
   "source": [
    "d = 384\n",
    "description = \"Flat\"\n",
    "\n",
    "index = helper_funcs.create_index(d, description, gpu=False)"
   ]
  },
  {
   "cell_type": "code",
   "execution_count": 6,
   "metadata": {},
   "outputs": [],
   "source": [
    "xb = torch.load('../msmarco-vec/msmarco-vectors-1.pt')"
   ]
  },
  {
   "cell_type": "code",
   "execution_count": 7,
   "metadata": {},
   "outputs": [
    {
     "name": "stdout",
     "output_type": "stream",
     "text": [
      "1000000\n"
     ]
    }
   ],
   "source": [
    "helper_funcs.populate_index(xb, index, to_cpu=True)\n",
    "\n",
    "print(index.ntotal)"
   ]
  },
  {
   "cell_type": "code",
   "execution_count": 11,
   "metadata": {},
   "outputs": [],
   "source": [
    "import time"
   ]
  },
  {
   "cell_type": "code",
   "execution_count": 12,
   "metadata": {},
   "outputs": [
    {
     "name": "stdout",
     "output_type": "stream",
     "text": [
      "0. Time elapsed:  3.4585072994232178\n",
      "1. Time elapsed:  1.8585867881774902\n",
      "2. Time elapsed:  2.1940665245056152\n",
      "3. Time elapsed:  1.8644893169403076\n",
      "4. Time elapsed:  1.8489837646484375\n"
     ]
    }
   ],
   "source": [
    "for i in range(0, 5):\n",
    "    start = time.time()\n",
    "    for query_number, query_text in queries.head(10).iterrows():\n",
    "        x = helper_funcs.search_and_rerank_redis(query_text[0], 10, encoder=encoder, cross_encoder=cross_encoder, index=index, rds=r)\n",
    "    end = time.time()\n",
    "\n",
    "    print(f\"{i}. Time elapsed: \", end - start)"
   ]
  },
  {
   "cell_type": "code",
   "execution_count": 13,
   "metadata": {},
   "outputs": [
    {
     "name": "stdout",
     "output_type": "stream",
     "text": [
      "0. Time elapsed:  110.79460740089417\n",
      "1. Time elapsed:  96.4015302658081\n",
      "2. Time elapsed:  96.12292861938477\n",
      "3. Time elapsed:  94.7905855178833\n",
      "4. Time elapsed:  94.7287974357605\n"
     ]
    }
   ],
   "source": [
    "for i in range(0, 5):\n",
    "    start = time.time()\n",
    "    for query_number, query_text in queries.head(10).iterrows():\n",
    "        x = helper_funcs.search_and_rerank(query_text[0], 10, encoder=encoder, cross_encoder=cross_encoder, index=index, collection=collection)\n",
    "    end = time.time()\n",
    "\n",
    "    print(f\"{i}. Time elapsed: \", end - start)"
   ]
  }
 ],
 "metadata": {
  "kernelspec": {
   "display_name": "Python 3",
   "language": "python",
   "name": "python3"
  },
  "language_info": {
   "codemirror_mode": {
    "name": "ipython",
    "version": 3
   },
   "file_extension": ".py",
   "mimetype": "text/x-python",
   "name": "python",
   "nbconvert_exporter": "python",
   "pygments_lexer": "ipython3",
   "version": "3.11.3 (main, Apr  5 2023, 00:00:00) [GCC 12.2.1 20221121 (Red Hat 12.2.1-4)]"
  },
  "orig_nbformat": 4,
  "vscode": {
   "interpreter": {
    "hash": "e7370f93d1d0cde622a1f8e1c04877d8463912d04d973331ad4851f04de6915a"
   }
  }
 },
 "nbformat": 4,
 "nbformat_minor": 2
}
